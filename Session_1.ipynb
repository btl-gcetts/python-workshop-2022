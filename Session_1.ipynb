{
  "nbformat": 4,
  "nbformat_minor": 0,
  "metadata": {
    "colab": {
      "name": "Session 1",
      "provenance": [],
      "collapsed_sections": [],
      "authorship_tag": "ABX9TyN7X4gyjx+ZIOOJVNIZzWDn",
      "include_colab_link": true
    },
    "kernelspec": {
      "name": "python3",
      "display_name": "Python 3"
    },
    "language_info": {
      "name": "python"
    }
  },
  "cells": [
    {
      "cell_type": "markdown",
      "metadata": {
        "id": "view-in-github",
        "colab_type": "text"
      },
      "source": [
        "<a href=\"https://colab.research.google.com/github/btl-gcetts/python-workshop-2022/blob/main/Session_1.ipynb\" target=\"_parent\"><img src=\"https://colab.research.google.com/assets/colab-badge.svg\" alt=\"Open In Colab\"/></a>"
      ]
    },
    {
      "cell_type": "markdown",
      "source": [
        "Python Session 1\n",
        "\n",
        "4th July, 2022\n",
        "\n",
        "(c) Arkaprabha Sinha Roy"
      ],
      "metadata": {
        "id": "4NMEAaJxTMVP"
      }
    },
    {
      "cell_type": "markdown",
      "source": [
        "# Hello World\n",
        "1. Print \"Hello World\"\n",
        "\n",
        "You probably know what this code is doing."
      ],
      "metadata": {
        "id": "43A3Yv4-OrMv"
      }
    },
    {
      "cell_type": "code",
      "source": [
        "print(\"Hello World\")"
      ],
      "metadata": {
        "id": "nX-sFSXiQvyj",
        "colab": {
          "base_uri": "https://localhost:8080/"
        },
        "outputId": "bff9cc3b-7581-45ab-a9e2-847cb02bfc43"
      },
      "execution_count": null,
      "outputs": [
        {
          "output_type": "stream",
          "name": "stdout",
          "text": [
            "Hello World\n"
          ]
        }
      ]
    },
    {
      "cell_type": "markdown",
      "source": [
        "# Syntax\n",
        "\n",
        "2. IF number is more than 2, print \"more than 2\"\n",
        "\n",
        "Python reads almost like English"
      ],
      "metadata": {
        "id": "l4TQN9-9RQ7Q"
      }
    },
    {
      "cell_type": "code",
      "source": [
        "x = 4\n",
        "if x > 2:\n",
        "  print(\"more than 2\")\n",
        "  ...\n",
        "...\n",
        "# whenever we use a colon `:` we have to use indentation on the next line"
      ],
      "metadata": {
        "id": "CxBUxg3sRbwX",
        "colab": {
          "base_uri": "https://localhost:8080/"
        },
        "outputId": "0c48e886-9b42-45fd-e862-b8e932d7eff6"
      },
      "execution_count": null,
      "outputs": [
        {
          "output_type": "stream",
          "name": "stdout",
          "text": [
            "more than 2\n"
          ]
        }
      ]
    },
    {
      "cell_type": "markdown",
      "source": [
        "similarity and dissimilarity to C\n",
        "```c\n",
        "int x;\n",
        "x = 4;\n",
        "if(x>2){\n",
        "  printf(\"more than 2\");\n",
        "}\n",
        "```"
      ],
      "metadata": {
        "id": "kxN3pM_UfddP"
      }
    },
    {
      "cell_type": "markdown",
      "source": [
        "# Comments\n",
        "\n",
        "Comments start with a `#`"
      ],
      "metadata": {
        "id": "b91_hul7mmU_"
      }
    },
    {
      "cell_type": "code",
      "source": [
        "# this is a comment"
      ],
      "metadata": {
        "id": "Cf_Cemzm0Pp-"
      },
      "execution_count": null,
      "outputs": []
    },
    {
      "cell_type": "markdown",
      "source": [
        "# Printing Strings\n",
        "\n",
        "```py\n",
        "print(\"single line, double quotes\")\n",
        "print('single line, single quotes')\n",
        "print(\"\"\"multiline\n",
        "text\n",
        "like this is also \"possible\"!\n",
        "\"\"\")\n",
        "```\n",
        "\n",
        "There are also f-strings, r-strings which will be discuss later"
      ],
      "metadata": {
        "id": "gDQys7GlmeyH"
      }
    },
    {
      "cell_type": "code",
      "source": [
        "print(\"single line, double quotes\")\n",
        "print('single line, single quotes')\n",
        "print(\"\"\"multiline\n",
        "text\n",
        "like this is also \"possible\"!\n",
        "\"\"\")"
      ],
      "metadata": {
        "colab": {
          "base_uri": "https://localhost:8080/"
        },
        "id": "IHJOortPnNTF",
        "outputId": "7ff85813-b03b-45e6-c26d-2b8b7cd281a5"
      },
      "execution_count": null,
      "outputs": [
        {
          "output_type": "stream",
          "name": "stdout",
          "text": [
            "single line, double quotes\n",
            "single line, single quotes\n",
            "multiline\n",
            "text\n",
            "like this is also \"possible\"!\n",
            "\n"
          ]
        }
      ]
    },
    {
      "cell_type": "markdown",
      "source": [
        "# Variables\n",
        "\n",
        "3. ASSIGN 3 to a\n",
        "4. ASSIGN 6 to six\n",
        "5. ASSIGN 5 to 4?"
      ],
      "metadata": {
        "id": "BcLVKjWzRdB5"
      }
    },
    {
      "cell_type": "code",
      "source": [
        "a = 3\n",
        "# a <- 3\n",
        "six = 6\n",
        "# 5 = 4\n",
        "four = 4\n",
        "# _four = 4\n",
        "# a-zA-Z_"
      ],
      "metadata": {
        "id": "G-siBy_CS70J"
      },
      "execution_count": null,
      "outputs": []
    },
    {
      "cell_type": "code",
      "source": [
        "# WORKING WITH VARIABLES\n",
        "b = a\n",
        "\n",
        "# value of b?\n",
        "b"
      ],
      "metadata": {
        "id": "7O5vrJJGTAQF",
        "colab": {
          "base_uri": "https://localhost:8080/"
        },
        "outputId": "813d6043-41f2-46fe-8842-6e6d3d69c2c8"
      },
      "execution_count": null,
      "outputs": [
        {
          "output_type": "execute_result",
          "data": {
            "text/plain": [
              "3"
            ]
          },
          "metadata": {},
          "execution_count": 15
        }
      ]
    },
    {
      "cell_type": "markdown",
      "source": [
        "# Printing numbers\n",
        "\n",
        "You can do\n",
        "`print(5)` or `print(\"5\")`\n",
        "\n",
        "Or you can declare a variable x and print that\n",
        "`print(x)`\n",
        "\n",
        "6. PRINT a\n",
        "7. PRINT b\n",
        "8. PRINT x"
      ],
      "metadata": {
        "id": "mYkUt6UtTZ-9"
      }
    },
    {
      "cell_type": "code",
      "source": [
        "print(a)\n",
        "print(b)\n",
        "# print(y)"
      ],
      "metadata": {
        "id": "4BVL1Z-kT-xZ",
        "colab": {
          "base_uri": "https://localhost:8080/"
        },
        "outputId": "446b27a4-f619-418e-e9cf-3984ee5eb859"
      },
      "execution_count": null,
      "outputs": [
        {
          "output_type": "stream",
          "name": "stdout",
          "text": [
            "3\n",
            "3\n"
          ]
        }
      ]
    },
    {
      "cell_type": "markdown",
      "source": [
        "Printing to the same line\n",
        "\n",
        "9. using `end=\"\"`\n",
        "10. using `,`\n"
      ],
      "metadata": {
        "id": "EYgihcls5NSA"
      }
    },
    {
      "cell_type": "code",
      "source": [
        "print(a, end=\"\")\n",
        "print(b) # <- useful to know\n",
        "print(a, b)  # <- this is better"
      ],
      "metadata": {
        "id": "sYwrvSWl6BMz",
        "colab": {
          "base_uri": "https://localhost:8080/"
        },
        "outputId": "c7cc4398-a79f-4f11-f986-836fef6b91aa"
      },
      "execution_count": null,
      "outputs": [
        {
          "output_type": "stream",
          "name": "stdout",
          "text": [
            "33\n",
            "3 3\n"
          ]
        }
      ]
    },
    {
      "cell_type": "markdown",
      "source": [
        "sepatators"
      ],
      "metadata": {
        "id": "MhqNZTv9wSE0"
      }
    },
    {
      "cell_type": "code",
      "source": [
        "print(a, b, sep=\" this is a separator \")\n",
        "# by default sep=\" \"\n",
        "print(a, b, end=\" this is end \")\n",
        "# by default end=\"\\n\""
      ],
      "metadata": {
        "colab": {
          "base_uri": "https://localhost:8080/"
        },
        "id": "88QZD5Krwcz6",
        "outputId": "8344f7fe-95db-4bee-8d49-f6741af0d94f"
      },
      "execution_count": null,
      "outputs": [
        {
          "output_type": "stream",
          "name": "stdout",
          "text": [
            "3 this is a separator 3\n",
            "3 3 this is end "
          ]
        }
      ]
    },
    {
      "cell_type": "markdown",
      "source": [
        "# Arithmetic Operations\n",
        "\n",
        "`+` addition\n",
        "\n",
        "`-` subtraction \n",
        "\n",
        "`*` multiplication \n",
        "\n",
        "`/` division\n",
        "\n",
        "\n",
        "`**` exponentiation\n",
        "\n",
        "`//` integer division\n",
        "\n",
        "`%` modulus"
      ],
      "metadata": {
        "id": "uEleAgiMUBNy"
      }
    },
    {
      "cell_type": "code",
      "source": [
        "# try it yourself"
      ],
      "metadata": {
        "id": "KUfWYzegmtur"
      },
      "execution_count": null,
      "outputs": []
    }
  ]
}