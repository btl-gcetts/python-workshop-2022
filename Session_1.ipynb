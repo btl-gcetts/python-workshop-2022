{
  "cells": [
    {
      "cell_type": "markdown",
      "metadata": {},
      "source": [
        "Python Session 1\n",
        "\n",
        "4th July, 2022\n",
        "\n",
        "(c) Arkaprabha Sinha Roy"
      ]
    },
    {
      "cell_type": "markdown",
      "metadata": {
        "id": "43A3Yv4-OrMv"
      },
      "source": [
        "# Hello World\n",
        "1. Print \"Hello World\"\n",
        "\n",
        "You probably know what this code is doing."
      ]
    },
    {
      "cell_type": "code",
      "execution_count": 2,
      "metadata": {
        "colab": {
          "base_uri": "https://localhost:8080/"
        },
        "id": "nX-sFSXiQvyj",
        "outputId": "bff9cc3b-7581-45ab-a9e2-847cb02bfc43"
      },
      "outputs": [
        {
          "name": "stdout",
          "output_type": "stream",
          "text": [
            "Hello World\n"
          ]
        }
      ],
      "source": [
        "print(\"Hello World\")"
      ]
    },
    {
      "cell_type": "markdown",
      "metadata": {
        "id": "l4TQN9-9RQ7Q"
      },
      "source": [
        "# Syntax\n",
        "\n",
        "2. IF number is more than 2, print \"more than 2\"\n",
        "\n",
        "Python reads almost like English"
      ]
    },
    {
      "cell_type": "code",
      "execution_count": 3,
      "metadata": {
        "colab": {
          "base_uri": "https://localhost:8080/"
        },
        "id": "CxBUxg3sRbwX",
        "outputId": "0c48e886-9b42-45fd-e862-b8e932d7eff6"
      },
      "outputs": [
        {
          "name": "stdout",
          "output_type": "stream",
          "text": [
            "more than 2\n"
          ]
        },
        {
          "data": {
            "text/plain": [
              "Ellipsis"
            ]
          },
          "execution_count": 3,
          "metadata": {},
          "output_type": "execute_result"
        }
      ],
      "source": [
        "x = 4\n",
        "if x > 2:\n",
        "  print(\"more than 2\")\n",
        "  ...\n",
        "...\n",
        "# whenever we use a colon `:` we have to use indentation on the next line"
      ]
    },
    {
      "cell_type": "markdown",
      "metadata": {
        "id": "kxN3pM_UfddP"
      },
      "source": [
        "similarity and dissimilarity to C\n",
        "```c\n",
        "int x;\n",
        "x = 4;\n",
        "if(x>2){\n",
        "  printf(\"more than 2\");\n",
        "}\n",
        "```"
      ]
    },
    {
      "cell_type": "markdown",
      "metadata": {
        "id": "b91_hul7mmU_"
      },
      "source": [
        "# Comments\n",
        "\n",
        "Comments start with a `#`"
      ]
    },
    {
      "cell_type": "code",
      "execution_count": 4,
      "metadata": {
        "id": "Cf_Cemzm0Pp-"
      },
      "outputs": [],
      "source": [
        "# this is a comment"
      ]
    },
    {
      "cell_type": "markdown",
      "metadata": {
        "id": "gDQys7GlmeyH"
      },
      "source": [
        "# Printing Strings\n",
        "\n",
        "```py\n",
        "print(\"single line, double quotes\")\n",
        "print('single line, single quotes')\n",
        "print(\"\"\"multiline\n",
        "text\n",
        "like this is also \"possible\"!\n",
        "\"\"\")\n",
        "```\n",
        "\n",
        "There are also f-strings, r-strings which will be discuss later"
      ]
    },
    {
      "cell_type": "code",
      "execution_count": 5,
      "metadata": {
        "colab": {
          "base_uri": "https://localhost:8080/"
        },
        "id": "IHJOortPnNTF",
        "outputId": "7ff85813-b03b-45e6-c26d-2b8b7cd281a5"
      },
      "outputs": [
        {
          "name": "stdout",
          "output_type": "stream",
          "text": [
            "single line, double quotes\n",
            "single line, single quotes\n",
            "multiline\n",
            "text\n",
            "like this is also \"possible\"!\n",
            "\n"
          ]
        }
      ],
      "source": [
        "print(\"single line, double quotes\")\n",
        "print('single line, single quotes')\n",
        "print(\"\"\"multiline\n",
        "text\n",
        "like this is also \"possible\"!\n",
        "\"\"\")"
      ]
    },
    {
      "cell_type": "markdown",
      "metadata": {
        "id": "BcLVKjWzRdB5"
      },
      "source": [
        "# Variables\n",
        "\n",
        "3. ASSIGN 3 to a\n",
        "4. ASSIGN 6 to six\n",
        "5. ASSIGN 5 to 4?"
      ]
    },
    {
      "cell_type": "code",
      "execution_count": 6,
      "metadata": {
        "id": "G-siBy_CS70J"
      },
      "outputs": [],
      "source": [
        "a = 3\n",
        "# a <- 3\n",
        "six = 6\n",
        "# 5 = 4\n",
        "four = 4\n",
        "# _four = 4\n",
        "# a-zA-Z_"
      ]
    },
    {
      "cell_type": "code",
      "execution_count": 7,
      "metadata": {
        "colab": {
          "base_uri": "https://localhost:8080/"
        },
        "id": "7O5vrJJGTAQF",
        "outputId": "813d6043-41f2-46fe-8842-6e6d3d69c2c8"
      },
      "outputs": [
        {
          "data": {
            "text/plain": [
              "3"
            ]
          },
          "execution_count": 7,
          "metadata": {},
          "output_type": "execute_result"
        }
      ],
      "source": [
        "# WORKING WITH VARIABLES\n",
        "b = a\n",
        "\n",
        "# value of b?\n",
        "b"
      ]
    },
    {
      "cell_type": "markdown",
      "metadata": {
        "id": "mYkUt6UtTZ-9"
      },
      "source": [
        "# Printing numbers\n",
        "\n",
        "You can do\n",
        "`print(5)` or `print(\"5\")`\n",
        "\n",
        "Or you can declare a variable x and print that\n",
        "`print(x)`\n",
        "\n",
        "6. PRINT a\n",
        "7. PRINT b\n",
        "8. PRINT x"
      ]
    },
    {
      "cell_type": "code",
      "execution_count": 8,
      "metadata": {
        "colab": {
          "base_uri": "https://localhost:8080/"
        },
        "id": "4BVL1Z-kT-xZ",
        "outputId": "446b27a4-f619-418e-e9cf-3984ee5eb859"
      },
      "outputs": [
        {
          "name": "stdout",
          "output_type": "stream",
          "text": [
            "3\n",
            "3\n"
          ]
        }
      ],
      "source": [
        "print(a)\n",
        "print(b)\n",
        "# print(y)"
      ]
    },
    {
      "cell_type": "markdown",
      "metadata": {
        "id": "EYgihcls5NSA"
      },
      "source": [
        "Printing to the same line\n",
        "\n",
        "9. using `end=\"\"`\n",
        "10. using `,`\n"
      ]
    },
    {
      "cell_type": "code",
      "execution_count": 9,
      "metadata": {
        "colab": {
          "base_uri": "https://localhost:8080/"
        },
        "id": "sYwrvSWl6BMz",
        "outputId": "c7cc4398-a79f-4f11-f986-836fef6b91aa"
      },
      "outputs": [
        {
          "name": "stdout",
          "output_type": "stream",
          "text": [
            "33\n",
            "3 3\n"
          ]
        }
      ],
      "source": [
        "print(a, end=\"\")\n",
        "print(b) # <- useful to know\n",
        "print(a, b)  # <- this is better"
      ]
    },
    {
      "cell_type": "markdown",
      "metadata": {
        "id": "MhqNZTv9wSE0"
      },
      "source": [
        "sepatators"
      ]
    },
    {
      "cell_type": "code",
      "execution_count": 10,
      "metadata": {
        "colab": {
          "base_uri": "https://localhost:8080/"
        },
        "id": "88QZD5Krwcz6",
        "outputId": "8344f7fe-95db-4bee-8d49-f6741af0d94f"
      },
      "outputs": [
        {
          "name": "stdout",
          "output_type": "stream",
          "text": [
            "3 this is a separator 3\n",
            "3 3 this is end "
          ]
        }
      ],
      "source": [
        "print(a, b, sep=\" this is a separator \")\n",
        "# by default sep=\" \"\n",
        "print(a, b, end=\" this is end \")\n",
        "# by default end=\"\\n\""
      ]
    },
    {
      "cell_type": "markdown",
      "metadata": {
        "id": "uEleAgiMUBNy"
      },
      "source": [
        "# Arithmetic Operations\n",
        "\n",
        "`+` addition\n",
        "\n",
        "`-` subtraction \n",
        "\n",
        "`*` multiplication \n",
        "\n",
        "`/` division\n",
        "\n",
        "\n",
        "`**` exponentiation\n",
        "\n",
        "`//` integer division\n",
        "\n",
        "`%` modulus"
      ]
    },
    {
      "cell_type": "code",
      "execution_count": 11,
      "metadata": {
        "id": "KUfWYzegmtur"
      },
      "outputs": [],
      "source": [
        "# try it yourself"
      ]
    }
  ],
  "metadata": {
    "colab": {
      "collapsed_sections": [],
      "name": "Session 1",
      "provenance": []
    },
    "kernelspec": {
      "display_name": "Python 3.10.5 64-bit",
      "language": "python",
      "name": "python3"
    },
    "language_info": {
      "codemirror_mode": {
        "name": "ipython",
        "version": 3
      },
      "file_extension": ".py",
      "mimetype": "text/x-python",
      "name": "python",
      "nbconvert_exporter": "python",
      "pygments_lexer": "ipython3",
      "version": "3.10.5"
    },
    "vscode": {
      "interpreter": {
        "hash": "4cb8e8ff2b27f34b0d016136632fa3b8937240480051f350531c889982479195"
      }
    }
  },
  "nbformat": 4,
  "nbformat_minor": 0
}
