{
  "nbformat": 4,
  "nbformat_minor": 0,
  "metadata": {
    "colab": {
      "name": "Session 2",
      "provenance": [],
      "collapsed_sections": [],
      "include_colab_link": true
    },
    "kernelspec": {
      "name": "python3",
      "display_name": "Python 3"
    },
    "language_info": {
      "name": "python"
    }
  },
  "cells": [
    {
      "cell_type": "markdown",
      "metadata": {
        "id": "view-in-github",
        "colab_type": "text"
      },
      "source": [
        "<a href=\"https://colab.research.google.com/github/btl-gcetts/python-workshop-2022/blob/main/Session_2.ipynb\" target=\"_parent\"><img src=\"https://colab.research.google.com/assets/colab-badge.svg\" alt=\"Open In Colab\"/></a>"
      ]
    },
    {
      "cell_type": "markdown",
      "source": [
        "Python Session 2\n",
        "\n",
        "8 July 2022\n",
        "\n",
        "(c) Arkaprabha Sinha Roy"
      ],
      "metadata": {
        "id": "BfqIRXJYmtJP"
      }
    },
    {
      "cell_type": "markdown",
      "source": [
        "# Discuss how to use Colab"
      ],
      "metadata": {
        "id": "zQiyCHmmMAQM"
      }
    },
    {
      "cell_type": "code",
      "execution_count": null,
      "metadata": {
        "colab": {
          "base_uri": "https://localhost:8080/"
        },
        "id": "On4C6QI0L-ox",
        "outputId": "8f096cec-fa97-4bc6-f9b0-47e11fa53535"
      },
      "outputs": [
        {
          "output_type": "stream",
          "name": "stdout",
          "text": [
            "hello  world\n"
          ]
        }
      ],
      "source": [
        "print(\"hello\" + \" world\")"
      ]
    },
    {
      "cell_type": "code",
      "source": [
        "# check version\n",
        "import sys\n",
        "sys.version"
      ],
      "metadata": {
        "colab": {
          "base_uri": "https://localhost:8080/",
          "height": 36
        },
        "id": "3H-heBjcMOJQ",
        "outputId": "09df36a7-d80e-4076-9b31-cd813e257403"
      },
      "execution_count": null,
      "outputs": [
        {
          "output_type": "execute_result",
          "data": {
            "text/plain": [
              "'3.7.13 (default, Apr 24 2022, 01:04:09) \\n[GCC 7.5.0]'"
            ],
            "application/vnd.google.colaboratory.intrinsic+json": {
              "type": "string"
            }
          },
          "metadata": {},
          "execution_count": 2
        }
      ]
    },
    {
      "cell_type": "markdown",
      "source": [
        "# Condtional Operators"
      ],
      "metadata": {
        "id": "aj1Sk-ahlLQx"
      }
    },
    {
      "cell_type": "code",
      "source": [
        "# chech a number is even or odd\n",
        "# using and\n",
        "def _(x):\n",
        "  res = \"\"\n",
        "  # implement a logic\n",
        "  if x%2==0:\n",
        "    res = \"even\"\n",
        "  else:\n",
        "    res = \"odd\"\n",
        "  ...\n",
        "  \n",
        "  print(res)\n",
        "\n",
        "x = int(input())\n",
        "_(x)"
      ],
      "metadata": {
        "colab": {
          "base_uri": "https://localhost:8080/"
        },
        "id": "__VP27YSNh89",
        "outputId": "122dcc29-dc0c-4a84-ea5d-89d2a8992b04"
      },
      "execution_count": null,
      "outputs": [
        {
          "output_type": "stream",
          "name": "stdout",
          "text": [
            "56\n",
            "even\n"
          ]
        }
      ]
    },
    {
      "cell_type": "code",
      "source": [
        "# chech a number is even or odd\n",
        "# using not\n",
        "def _(x):\n",
        "  res = \"\"\n",
        "  # implement a logic\n",
        "  if not(x%2)==1:\n",
        "    res = \"even\"\n",
        "  else:\n",
        "    res = \"odd\"\n",
        "  ...\n",
        "  \n",
        "  print(res)\n",
        "\n",
        "x = int(input())\n",
        "_(x)"
      ],
      "metadata": {
        "colab": {
          "base_uri": "https://localhost:8080/"
        },
        "id": "KyZnxs8yQw21",
        "outputId": "704b88d6-e4c4-4068-9850-28954c1c2e35"
      },
      "execution_count": null,
      "outputs": [
        {
          "output_type": "stream",
          "name": "stdout",
          "text": [
            "78\n",
            "even\n"
          ]
        }
      ]
    },
    {
      "cell_type": "code",
      "source": [
        "# chech a number is even or odd\n",
        "# not using == or not \n",
        "def _(x):\n",
        "  res = \"\"\n",
        "  # implement a logic\n",
        "  if x%2:\n",
        "    res = \"odd\"\n",
        "  else:\n",
        "    res = \"even\"\n",
        "  ...\n",
        "  \n",
        "  print(res)\n",
        "\n",
        "x = int(input())\n",
        "_(x)"
      ],
      "metadata": {
        "colab": {
          "base_uri": "https://localhost:8080/"
        },
        "id": "3lSKDXdOR-Ph",
        "outputId": "99be315f-d7e7-416b-d43e-c0db2086d69d"
      },
      "execution_count": null,
      "outputs": [
        {
          "output_type": "stream",
          "name": "stdout",
          "text": [
            "21\n",
            "odd\n"
          ]
        }
      ]
    },
    {
      "cell_type": "code",
      "source": [
        "# chech a number is even or odd\n",
        "# not using == or not \n",
        "def divisible(x, n):\n",
        "  res = \"\"\n",
        "  # implement a logic\n",
        "  if x%n:\n",
        "    res = \"not divisible\"\n",
        "  else:\n",
        "    res = \"divisible\"\n",
        "  ...\n",
        "  \n",
        "  print(res)\n",
        "\n",
        "x, n = input().split()\n",
        "x, n = int(x), int(n)\n",
        "divisible(x, n)"
      ],
      "metadata": {
        "colab": {
          "base_uri": "https://localhost:8080/"
        },
        "id": "OuQu5ZfPSEev",
        "outputId": "c89acbc8-0d82-4d40-ab1c-67713d40a6a2"
      },
      "execution_count": null,
      "outputs": [
        {
          "output_type": "stream",
          "name": "stdout",
          "text": [
            "121 11\n",
            "divisible\n"
          ]
        }
      ]
    },
    {
      "cell_type": "markdown",
      "source": [
        "# Falsy values in Python\n",
        "```\n",
        "False\n",
        "0\n",
        "0.0\n",
        "\"\"\n",
        "''\n",
        "\"\"\"\"\"\"\n",
        "```"
      ],
      "metadata": {
        "id": "Hu4MQC4ITBMc"
      }
    },
    {
      "cell_type": "code",
      "source": [
        "bool(\"\")"
      ],
      "metadata": {
        "colab": {
          "base_uri": "https://localhost:8080/"
        },
        "id": "LA7pkpQhSe16",
        "outputId": "1692629e-3675-4a6a-f1a2-c6a627443ade"
      },
      "execution_count": null,
      "outputs": [
        {
          "output_type": "execute_result",
          "data": {
            "text/plain": [
              "False"
            ]
          },
          "metadata": {},
          "execution_count": 10
        }
      ]
    },
    {
      "cell_type": "code",
      "source": [
        "if \"\":\n",
        "  print(\"false\")"
      ],
      "metadata": {
        "id": "TNoXTFvDTYsb"
      },
      "execution_count": null,
      "outputs": []
    },
    {
      "cell_type": "code",
      "source": [
        "\"\" is False"
      ],
      "metadata": {
        "colab": {
          "base_uri": "https://localhost:8080/"
        },
        "id": "oGGvwyanTsQn",
        "outputId": "7d4803fe-ae2a-47f5-f7cc-f2b70462eb26"
      },
      "execution_count": null,
      "outputs": [
        {
          "output_type": "execute_result",
          "data": {
            "text/plain": [
              "False"
            ]
          },
          "metadata": {},
          "execution_count": 12
        }
      ]
    },
    {
      "cell_type": "code",
      "source": [
        "\"\" is not False"
      ],
      "metadata": {
        "colab": {
          "base_uri": "https://localhost:8080/"
        },
        "id": "bUthpVSvU11D",
        "outputId": "4e490b51-92e2-450b-9527-74195e09b6bf"
      },
      "execution_count": null,
      "outputs": [
        {
          "output_type": "execute_result",
          "data": {
            "text/plain": [
              "True"
            ]
          },
          "metadata": {},
          "execution_count": 16
        }
      ]
    },
    {
      "cell_type": "code",
      "source": [
        "\"\" == False"
      ],
      "metadata": {
        "colab": {
          "base_uri": "https://localhost:8080/"
        },
        "id": "girVtpguT2ak",
        "outputId": "0aadf277-b2b3-4ef1-cf14-6884f3136531"
      },
      "execution_count": null,
      "outputs": [
        {
          "output_type": "execute_result",
          "data": {
            "text/plain": [
              "False"
            ]
          },
          "metadata": {},
          "execution_count": 13
        }
      ]
    },
    {
      "cell_type": "code",
      "source": [
        "# see methods and attributes of an object\n",
        "dir(\"\")"
      ],
      "metadata": {
        "colab": {
          "base_uri": "https://localhost:8080/"
        },
        "id": "3JFaRQuhT7eL",
        "outputId": "173a8a7d-bd92-49f8-a1cc-aa48afaa7514"
      },
      "execution_count": null,
      "outputs": [
        {
          "output_type": "execute_result",
          "data": {
            "text/plain": [
              "['__add__',\n",
              " '__class__',\n",
              " '__contains__',\n",
              " '__delattr__',\n",
              " '__dir__',\n",
              " '__doc__',\n",
              " '__eq__',\n",
              " '__format__',\n",
              " '__ge__',\n",
              " '__getattribute__',\n",
              " '__getitem__',\n",
              " '__getnewargs__',\n",
              " '__gt__',\n",
              " '__hash__',\n",
              " '__init__',\n",
              " '__init_subclass__',\n",
              " '__iter__',\n",
              " '__le__',\n",
              " '__len__',\n",
              " '__lt__',\n",
              " '__mod__',\n",
              " '__mul__',\n",
              " '__ne__',\n",
              " '__new__',\n",
              " '__reduce__',\n",
              " '__reduce_ex__',\n",
              " '__repr__',\n",
              " '__rmod__',\n",
              " '__rmul__',\n",
              " '__setattr__',\n",
              " '__sizeof__',\n",
              " '__str__',\n",
              " '__subclasshook__',\n",
              " 'capitalize',\n",
              " 'casefold',\n",
              " 'center',\n",
              " 'count',\n",
              " 'encode',\n",
              " 'endswith',\n",
              " 'expandtabs',\n",
              " 'find',\n",
              " 'format',\n",
              " 'format_map',\n",
              " 'index',\n",
              " 'isalnum',\n",
              " 'isalpha',\n",
              " 'isascii',\n",
              " 'isdecimal',\n",
              " 'isdigit',\n",
              " 'isidentifier',\n",
              " 'islower',\n",
              " 'isnumeric',\n",
              " 'isprintable',\n",
              " 'isspace',\n",
              " 'istitle',\n",
              " 'isupper',\n",
              " 'join',\n",
              " 'ljust',\n",
              " 'lower',\n",
              " 'lstrip',\n",
              " 'maketrans',\n",
              " 'partition',\n",
              " 'replace',\n",
              " 'rfind',\n",
              " 'rindex',\n",
              " 'rjust',\n",
              " 'rpartition',\n",
              " 'rsplit',\n",
              " 'rstrip',\n",
              " 'split',\n",
              " 'splitlines',\n",
              " 'startswith',\n",
              " 'strip',\n",
              " 'swapcase',\n",
              " 'title',\n",
              " 'translate',\n",
              " 'upper',\n",
              " 'zfill']"
            ]
          },
          "metadata": {},
          "execution_count": 15
        }
      ]
    },
    {
      "cell_type": "markdown",
      "source": [
        "# Membership"
      ],
      "metadata": {
        "id": "OSAsUrI7VsDs"
      }
    },
    {
      "cell_type": "code",
      "source": [
        "s = \"my name is arka\"\n",
        "\"arka\" in s"
      ],
      "metadata": {
        "colab": {
          "base_uri": "https://localhost:8080/"
        },
        "id": "aZpNXlEaUMqL",
        "outputId": "467939fd-f71d-47cf-a661-e046da1b64c1"
      },
      "execution_count": null,
      "outputs": [
        {
          "output_type": "execute_result",
          "data": {
            "text/plain": [
              "True"
            ]
          },
          "metadata": {},
          "execution_count": 17
        }
      ]
    },
    {
      "cell_type": "code",
      "source": [
        "s = \"pastry is tasty\"\n",
        "\"try\" in s"
      ],
      "metadata": {
        "colab": {
          "base_uri": "https://localhost:8080/"
        },
        "id": "4snuwQ1NVQKy",
        "outputId": "c3564a4e-0ad6-4598-fff1-c4b9fee64708"
      },
      "execution_count": null,
      "outputs": [
        {
          "output_type": "execute_result",
          "data": {
            "text/plain": [
              "True"
            ]
          },
          "metadata": {},
          "execution_count": 18
        }
      ]
    },
    {
      "cell_type": "code",
      "source": [
        "d = \"python\"\n",
        "\"c++\" not in d"
      ],
      "metadata": {
        "colab": {
          "base_uri": "https://localhost:8080/"
        },
        "id": "iSHQzNxPVESD",
        "outputId": "34b45085-3511-4b3e-c5ca-5f791dfc1b50"
      },
      "execution_count": null,
      "outputs": [
        {
          "output_type": "execute_result",
          "data": {
            "text/plain": [
              "True"
            ]
          },
          "metadata": {},
          "execution_count": 19
        }
      ]
    },
    {
      "cell_type": "code",
      "source": [
        "\"py\" in d"
      ],
      "metadata": {
        "colab": {
          "base_uri": "https://localhost:8080/"
        },
        "id": "yThkyxqwVpIs",
        "outputId": "46d58670-7417-423a-cc42-a32a7f1d8791"
      },
      "execution_count": null,
      "outputs": [
        {
          "output_type": "execute_result",
          "data": {
            "text/plain": [
              "True"
            ]
          },
          "metadata": {},
          "execution_count": 20
        }
      ]
    },
    {
      "cell_type": "markdown",
      "source": [
        "# Exercises \n",
        "\n",
        "None for this session, just play around with different objects and get used to python syntax and explore the docs to learn more in advance.\n"
      ],
      "metadata": {
        "id": "ihz36tHpm_z0"
      }
    }
  ]
}